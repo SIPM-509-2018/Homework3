{
 "cells": [
  {
   "cell_type": "markdown",
   "metadata": {},
   "source": [
    "# Homework 3\n",
    "\n",
    "## Problem 1: Dealing with categorical variable\n",
    "\n",
    "In this homework you will learn how to deal with mixed type of features using pipeline.\n",
    "\n",
    "First the obvious fact. There are two main types for variables that we care about.\n",
    "\n",
    "- Ordinal Variables. These are the variable that has some physical ordering. For example, blood sugar level. The higher the number means that there is more sugar in the blood. Another one is a pain level from scale 1-10. The higher the number the more pain.\n",
    "\n",
    "- Categorial Variables. These are the variable that has no intrinsic physical ordering An example would be color: red, green, blue. There is no ordering exists in such variable."
   ]
  },
  {
   "cell_type": "markdown",
   "metadata": {},
   "source": [
    "Categorical variable need a bit of extra care when we want to peform classification. It's quite obvious that we need to turn those labels in to numbers somehow. Let us explore different ways of doing it.\n",
    "\n",
    "Let us consider a categorical variable, color, which the available values are red, green, blue.\n",
    "\n",
    "1) (**Do not do this!!!**)Assigning arbitary number to it. The most obvious way to do this is to assign arbitary number for example 1:red, 2:green and 3 for blue. Eventhough this sounds very intuitive but it is a really bad idea. To understand why we need to remind ourselves of how logistic regression works(most algorithm is essentially logistic with some modification).\n",
    "\n",
    "The Logistic regression is based on the guessing the probability as $\\theta(\\vec{w}\\cdot\\vec{x})$ this means that each tranformed feature gets multiplied to the corresponding weight. Consider how the weight interacts with the color features.\n",
    "\n",
    "For red color we have $\\vec{w}\\cdot\\vec{x} \\to \\ldots+ w_{\\text{color}} \\times 1+ \\ldots$\n",
    "\n",
    "For green color we have $\\vec{w}\\cdot\\vec{x} \\to \\ldots+ w_{\\text{color}} \\times 2+ \\ldots$\n",
    "\n",
    "For blue color we have $\\vec{w}\\cdot\\vec{x} \\to \\ldots+ w_{\\text{color}} \\times 3+ \\ldots$\n",
    "\n",
    "Without lost of generality let $w_{\\text{color}}$ be positive. The red will get less contribution then the green and then the blue. This implies that we have created an arbitary order for the color features that doesn't exists before. This is a bad idea.\n",
    "\n",
    "2) The correct way: **one-hot encoding**. We want to avoid creating arbitary encoding for the categorical variables. One way to do it is to transfrom color feature into multiple features. Each contains the value of either 0 or 1. Specficially,\n",
    "\n",
    "| Original | $\\to$ | color_red | color_blue | color_green |\n",
    "|----------|-------|-----------|------------|-------------|\n",
    "| red      | $\\to$ |     1     |      0     |      0      |\n",
    "| green    | $\\to$ |     0     |      0     |      1      |\n",
    "| blue     | $\\to$ |     0     |      1     |      o      |\n",
    "\n",
    "which mean in our case of 3 colors the resulting transformation will be 3 columns.\n",
    "SKLearn has a builtin for you to do this: https://scikit-learn.org/stable/modules/generated/sklearn.preprocessing.OneHotEncoder.html\n",
    "\n",
    "There is an example on how to use it with pipeline here:\n",
    "https://towardsdatascience.com/smarter-ways-to-encode-categorical-data-for-machine-learning-part-1-of-3-6dca2f71b159\n",
    "search for one-hot.\n",
    "\n",
    "3) Others which typically is just a fancier one-hot encoding. You can read about it [here](https://towardsdatascience.com/smarter-ways-to-encode-categorical-data-for-machine-learning-part-1-of-3-6dca2f71b159)\n",
    "\n",
    "\n",
    "\n"
   ]
  },
  {
   "cell_type": "markdown",
   "metadata": {},
   "source": [
    "**Your Task:** in this problem you will be dealing with a dataset with both categorical and nominal. The goal here is to compare multiple methods of classification (Make sure you have at least 10 methods)\n",
    "\n",
    "Perform cross validation and report the expected ROC from the best classifier (best AUC ROC).\n",
    "\n",
    "Your data is given [here](https://archive.ics.uci.edu/ml/datasets/Statlog+%28Heart%29).\n",
    "\n",
    "**Hint:**\n",
    "\n",
    "1) To read the data in a nice format you need to use the `sep` and `name` in `pd.read_csv`\n",
    "\n",
    "2) Use pipeline so you life is easier.\n",
    "\n",
    "3) Some features is ordinal and some is categorical take care of them accordingly"
   ]
  },
  {
   "cell_type": "code",
   "execution_count": null,
   "metadata": {},
   "outputs": [],
   "source": []
  },
  {
   "cell_type": "markdown",
   "metadata": {},
   "source": [
    "## Problem 2: Unsupervised Learning.\n",
    "\n",
    "Given the data from [seed](https://archive.ics.uci.edu/ml/datasets/seeds). (Don't use the last column. Use it only as to check your answer)"
   ]
  },
  {
   "cell_type": "markdown",
   "metadata": {},
   "source": [
    "1.) Which feature has the most variance?"
   ]
  },
  {
   "cell_type": "code",
   "execution_count": null,
   "metadata": {},
   "outputs": [],
   "source": []
  },
  {
   "cell_type": "markdown",
   "metadata": {},
   "source": [
    "2.) Make a scatter plot the top 2 highest variance features."
   ]
  },
  {
   "cell_type": "code",
   "execution_count": null,
   "metadata": {},
   "outputs": [],
   "source": []
  },
  {
   "cell_type": "markdown",
   "metadata": {},
   "source": [
    "3.) Perform PCA and make a scatter plot of the two best components."
   ]
  },
  {
   "cell_type": "code",
   "execution_count": null,
   "metadata": {},
   "outputs": [],
   "source": []
  },
  {
   "cell_type": "markdown",
   "metadata": {},
   "source": [
    "4.) Perform tsne ane make a scatter plot."
   ]
  },
  {
   "cell_type": "code",
   "execution_count": null,
   "metadata": {},
   "outputs": [],
   "source": []
  }
 ],
 "metadata": {
  "kernelspec": {
   "display_name": "Python 3",
   "language": "python",
   "name": "python3"
  },
  "language_info": {
   "codemirror_mode": {
    "name": "ipython",
    "version": 3
   },
   "file_extension": ".py",
   "mimetype": "text/x-python",
   "name": "python",
   "nbconvert_exporter": "python",
   "pygments_lexer": "ipython3",
   "version": "3.7.1"
  }
 },
 "nbformat": 4,
 "nbformat_minor": 2
}
